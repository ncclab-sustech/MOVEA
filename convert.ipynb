{
 "cells": [
  {
   "cell_type": "code",
   "execution_count": 27,
   "metadata": {},
   "outputs": [],
   "source": [
    "import h5py \n",
    "import numpy as np"
   ]
  },
  {
   "cell_type": "code",
   "execution_count": 31,
   "metadata": {},
   "outputs": [],
   "source": [
    "# 1. only GM, use default lfm code from https://simnibs.github.io/simnibs/build/html/documentation/sim_struct/tdcsleadfield.html#tdcsleadfield\n",
    "f = h5py.File('hcp4_leadfield_EEG10-10_UI_Jurak_2007.hdf5','r') \n",
    "\n"
   ]
  },
  {
   "cell_type": "code",
   "execution_count": 4,
   "metadata": {},
   "outputs": [
    {
     "data": {
      "text/plain": [
       "<KeysViewHDF5 ['mesh_electrodes', 'mesh_leadfield']>"
      ]
     },
     "execution_count": 4,
     "metadata": {},
     "output_type": "execute_result"
    }
   ],
   "source": [
    "f.keys()  \n"
   ]
  },
  {
   "cell_type": "code",
   "execution_count": 28,
   "metadata": {},
   "outputs": [],
   "source": [
    "pos = f['mesh_leadfield']['nodes']['node_coord']\n",
    "np.save('pos_hcp4.npy',pos)"
   ]
  },
  {
   "cell_type": "code",
   "execution_count": 30,
   "metadata": {},
   "outputs": [],
   "source": [
    "lfm = f['mesh_leadfield']['leadfields']['tdcs_leadfield']\n",
    "np.save('lfm_hcp4.npy',lfm)\n"
   ]
  },
  {
   "cell_type": "code",
   "execution_count": null,
   "metadata": {},
   "outputs": [],
   "source": [
    "# 2. for GM and WM\n",
    "# modify the lfm code.\n",
    "import simnibs\n",
    "from simnibs import sim_struct\n",
    "tdcs_lf = sim_struct.TDCSLEADFIELD()\n",
    "tdcs_lf.fnamehead = #[your path to msh]\n",
    "tdcs_lf.subpath = #[your path to m2m folder]\n",
    "tdcs_lf.pathfem = #[output path]\n",
    "tdcs_lf.interpolation = None\n",
    "tdcs_lf.map_to_surf = False\n",
    "tdcs_lf.tissues = [1,2]\n",
    "simnibs.run_simnibs(tdcs_lf)\n",
    "\n",
    "\n"
   ]
  },
  {
   "cell_type": "code",
   "execution_count": null,
   "metadata": {},
   "outputs": [],
   "source": [
    "#generate lfm and pos matrix\n",
    "f = h5py.File([your path to hdf5])\n",
    "\n",
    "pos = f['mesh_leadfield']['nodes']['node_coord']\n",
    "lfm = f['mesh_leadfield']['leadfields']['tdcs_leadfield']\n",
    "index = f['mesh_leadfield']['elm']['node_number_list']\n",
    "newpos = np.zeros([lfm.shape[1],3])\n",
    "for i in range(newpos.shape[0]): # The midpoint of the tetrahedron\n",
    "    newpos[i]=(pos[index[i,0]-1]+pos[index[i,1]-1]+pos[index[i,2]-1]+pos[index[i,3]-1])/4\n",
    "np.save('lfm_hcp4.npy',lfm)\n",
    "np.save('pos_hcp4.npy',newpos)"
   ]
  }
 ],
 "metadata": {
  "kernelspec": {
   "display_name": "Python 3",
   "language": "python",
   "name": "python3"
  },
  "language_info": {
   "codemirror_mode": {
    "name": "ipython",
    "version": 3
   },
   "file_extension": ".py",
   "mimetype": "text/x-python",
   "name": "python",
   "nbconvert_exporter": "python",
   "pygments_lexer": "ipython3",
   "version": "3.10.12"
  },
  "orig_nbformat": 4
 },
 "nbformat": 4,
 "nbformat_minor": 2
}
